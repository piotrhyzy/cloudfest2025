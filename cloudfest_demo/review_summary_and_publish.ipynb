{
 "cells": [
  {
   "cell_type": "code",
   "execution_count": 21,
   "metadata": {},
   "outputs": [],
   "source": [
    "ai_model = 'gemini-2.0-flash-001'\n",
    "git_repo_name = \"piotrhyzy/cloudfest2025\"\n",
    "git_pr_number = 7\n"
   ]
  },
  {
   "cell_type": "code",
   "execution_count": 22,
   "metadata": {},
   "outputs": [],
   "source": [
    "import configuration as config"
   ]
  },
  {
   "cell_type": "code",
   "execution_count": 23,
   "metadata": {},
   "outputs": [],
   "source": [
    "import vertexai\n",
    "vertexai.init(project=config.VERTEX_PROJECT_ID, location=config.VERTEX_LOCATION)"
   ]
  },
  {
   "cell_type": "code",
   "execution_count": 24,
   "metadata": {},
   "outputs": [],
   "source": [
    "from shared.gcp import Secret\n",
    "secret = Secret.access_secret_version(\n",
    "        config.GITHUB_SECRET_PROJECT_ID,\n",
    "        config.GITHUB_SECRET_NAME,\n",
    "    )\n",
    "app_id = secret[\"app_id\"]\n",
    "installation_id = secret[\"installation_id\"]\n",
    "private_key = secret[\"private_key\"]"
   ]
  },
  {
   "cell_type": "code",
   "execution_count": 25,
   "metadata": {},
   "outputs": [],
   "source": [
    "from shared.git import get_client\n",
    "git_client = get_client(app_id, installation_id, private_key, config.GITHUB_BASE_URL)"
   ]
  },
  {
   "cell_type": "markdown",
   "metadata": {},
   "source": [
    "## Fetch PR Title and Description"
   ]
  },
  {
   "cell_type": "code",
   "execution_count": null,
   "metadata": {},
   "outputs": [],
   "source": [
    "from shared.git import get_pr_details\n",
    "pr_details = get_pr_details(git_client, git_repo_name, git_pr_number)\n",
    "\n",
    "print(pr_details.model_dump_json(indent=2))"
   ]
  },
  {
   "cell_type": "markdown",
   "metadata": {},
   "source": [
    "## Fetch PR Diff"
   ]
  },
  {
   "cell_type": "code",
   "execution_count": null,
   "metadata": {},
   "outputs": [],
   "source": [
    "from shared.git import get_pr_diff\n",
    "pr_diff = get_pr_diff(git_client, git_repo_name, git_pr_number)\n",
    "\n",
    "print(pr_diff)\n"
   ]
  },
  {
   "cell_type": "markdown",
   "metadata": {},
   "source": [
    "## Chunk GitHub Diff"
   ]
  },
  {
   "cell_type": "code",
   "execution_count": null,
   "metadata": {},
   "outputs": [],
   "source": [
    "from shared.diff import process_diff\n",
    "unified_diff = process_diff(pr_diff)\n",
    "print(unified_diff.model_dump_json(indent=4))"
   ]
  },
  {
   "cell_type": "markdown",
   "metadata": {},
   "source": [
    "## Convert the strctured diff to a review File object"
   ]
  },
  {
   "cell_type": "code",
   "execution_count": 29,
   "metadata": {},
   "outputs": [],
   "source": [
    "from shared.review import convert_diff_to_review_files\n",
    "review_files = convert_diff_to_review_files(unified_diff, pr_details)"
   ]
  },
  {
   "cell_type": "code",
   "execution_count": null,
   "metadata": {},
   "outputs": [],
   "source": [
    "for _review_file in review_files:\n",
    "    print(_review_file.model_dump_json(indent=2))"
   ]
  },
  {
   "cell_type": "markdown",
   "metadata": {},
   "source": [
    "## Fetch File Snapschot"
   ]
  },
  {
   "cell_type": "code",
   "execution_count": null,
   "metadata": {},
   "outputs": [],
   "source": [
    "from shared.git import download_file_snapschot_from_pr\n",
    "\n",
    "for _review_file in review_files:\n",
    "    _review_file.snapshot = download_file_snapschot_from_pr(git_client, git_repo_name, git_pr_number, _review_file.path)\n",
    "    print(_review_file.model_dump_json(indent=2))"
   ]
  },
  {
   "cell_type": "markdown",
   "metadata": {},
   "source": [
    "## Request LLM For File Review\n",
    "\n",
    "### Prompt "
   ]
  },
  {
   "cell_type": "code",
   "execution_count": 32,
   "metadata": {},
   "outputs": [],
   "source": [
    "from vertexai.generative_models import GenerativeModel\n",
    "\n",
    "import json\n",
    "\n",
    "def generate_pr_file_review_prompt(file_path: str, file_diff: str, original_file_content: str) -> str:\n",
    "    \"\"\"\n",
    "    Generates a prompt for a generative AI model to review a GitHub pull request file change,\n",
    "    providing feedback in a structured JSON format, including code suggestions when applicable.\n",
    "    \"\"\"\n",
    "    json_output_schema = {\n",
    "        '$defs': {\n",
    "            'ReviewComment': {\n",
    "                'properties': {\n",
    "                    'path': {'title': 'Path', 'type': 'string'},\n",
    "                    'start_line': {'title': 'Start Line', 'type': 'integer'},\n",
    "                    'line': {'title': 'Line', 'type': 'integer'},\n",
    "                    'body': {'title': 'Body', 'type': 'string'},\n",
    "                    'start_side': {\n",
    "                        'enum': ['LEFT', 'RIGHT'],\n",
    "                        'title': 'Start Side',\n",
    "                        'type': 'string'\n",
    "                    },\n",
    "                    'side': {\n",
    "                        'enum': ['LEFT', 'RIGHT'],\n",
    "                        'title': 'Side',\n",
    "                        'type': 'string'\n",
    "                    }\n",
    "                },\n",
    "                'required': ['path', 'start_line', 'line', 'body', 'start_side', 'side'],\n",
    "                'title': 'ReviewComment',\n",
    "                'type': 'object'\n",
    "            }\n",
    "        },\n",
    "        'properties': {\n",
    "            'reviews': {\n",
    "                'items': {\n",
    "                    '$ref': '#/$defs/ReviewComment'\n",
    "                },\n",
    "                'title': 'Reviews',\n",
    "                'type': 'array'\n",
    "            }\n",
    "        },\n",
    "        'required': ['reviews'],\n",
    "        'title': 'Review',\n",
    "        'type': 'object'\n",
    "    }\n",
    "\n",
    "    system_prompt = f\"\"\"\n",
    "        You are a senior software engineer performing a thorough code review.\n",
    "        Your task is to analyze the changes in a pull request and provide feedback in a specific JSON format.\n",
    "        Focus exclusively on the code added or removed as indicated in the diff; do not comment on unchanged code.\n",
    "        Be concise, precise, and only comment when a change can be meaningfully improved.\n",
    "        Adhere to PEP-8 guidelines for style and Python 3.10+ semantics for typing.\n",
    "        If a change poses no issues, do not generate a comment for it.\n",
    "\n",
    "        **Instructions:**\n",
    "        - **Scope:** Only review the `ADDED` and `REMOVED` lines in the diff. Ignore unchanged lines.\n",
    "        - **Conciseness:** Be brief and focus on the most important issues.\n",
    "        - **Style:** Apply PEP-8 style checks.\n",
    "        - **Typing:** Prefer `type | None` over `Optional[type]` for type hinting in Python 3.10+.\n",
    "        - **Consistency:** Keep the review consistent throughout the file.\n",
    "        - **Do Not:**\n",
    "            - Praise or summarize the changes.\n",
    "            - Comment on unchanged code.\n",
    "            - Suggest renames or changes outside the provided code.\n",
    "            - Modify or suggest changes to existing names of classes, functions, messages, or objects.\n",
    "            - Confirm correctness without offering improvements.\n",
    "        - **Docstrings:** Do not comment on the absence of docstrings if similar existing code lacks them.\n",
    "        - **Comments in Code:** Require inline comments for non-obvious logic, conditions, loops and algorithms.\n",
    "        - **No Improvement:** If no improvements are needed, return an empty `reviews` array.\n",
    "        - **Output format:** You MUST provide a JSON formatted output using the `ReviewComment` schema with all required fields.\n",
    "        - **Reviews:** scope a review comment with all affected lines (start_line, line) to make sure the feedback is clear.\n",
    "        - **Line Number and Side:**\n",
    "            - Use the `line` and `side` as provided in the diff.\n",
    "            - For multi-line comments, specify `start_line`/`start_side` and `line`/`side` accordingly.\n",
    "            - For single-line comments, `start_line = line` and `start_side = side`.\n",
    "        - **path:** Provide the file path exactly as given.\n",
    "        - **Code Suggestions:** When applicable, include code suggestions using GitHub's code suggestion format:\n",
    "            ```suggestion\n",
    "            # Your improved code here\n",
    "            ```\n",
    "\n",
    "        **JSON Output Schema:**\n",
    "        ```json\n",
    "            {json.dumps(json_output_schema)}\n",
    "        ```\n",
    "        \"\"\"\n",
    "\n",
    "    prompt = f\"\"\"{system_prompt}\n",
    "        Here is the path to the file: {file_path}\n",
    "        Here is the diff from the pull request: {file_diff}\n",
    "        For reference only: here's a snapshot of the file with original content: {original_file_content}\n",
    "\n",
    "        Now provide a comprehensive review of the code changes, only if there are meaningful improvements to apply.\n",
    "        Remember to use proper JSON format in the specified ReviewComment schema.\n",
    "        Include code suggestions in the review body when it can be helpful for the developer,\n",
    "        using the GitHub suggestion format: ```suggestion ...```.\n",
    "        \"\"\"\n",
    "\n",
    "    return prompt\n",
    "\n",
    "\n",
    "def review_single_file_changes_gemini(\n",
    "    file_path: str,\n",
    "    original_file_content: str,\n",
    "    diff: str,\n",
    "    language: str = 'python'\n",
    ") -> str:\n",
    "    \"\"\"Reviews changes in a single file using the Gemini Pro model via Vertex AI SDK.\n",
    "\n",
    "    Args:\n",
    "        file_path: The path to the file.\n",
    "        original_file_content: The original content of the file.\n",
    "        diff: The diff of the changes.\n",
    "        language: The programming language of the code.\n",
    "\n",
    "    Returns:\n",
    "        The review of the changes as a string.\n",
    "\n",
    "    Raises:\n",
    "        ValueError: If there are issues with the input parameters or the API response.\n",
    "    \"\"\"\n",
    "\n",
    "    if not file_path:\n",
    "        raise ValueError(\"file_path is required\")\n",
    "    if not original_file_content:\n",
    "        raise ValueError(\"original_file_content is required\")\n",
    "    if not diff:\n",
    "        raise ValueError(\"diff is required\")\n",
    "    if not language:\n",
    "        raise ValueError(\"language is required\")\n",
    "\n",
    "\n",
    "    prompt = generate_pr_file_review_prompt(\n",
    "        file_path=file_path,\n",
    "        original_file_content=original_file_content,\n",
    "        file_diff=diff,\n",
    "        # language=language,\n",
    "    )\n",
    "\n",
    "    # Configure the Gemini Pro model\n",
    "    generation_config = {\n",
    "        \"candidate_count\": 1,\n",
    "        \"max_output_tokens\": 2048,\n",
    "        \"temperature\": 0.2,\n",
    "        \"top_p\": 1,\n",
    "        \"top_k\": 40,\n",
    "    }\n",
    "    # Load the Gemini model\n",
    "    model = GenerativeModel(ai_model)\n",
    "\n",
    "    # Call the model with the prompt\n",
    "    response = model.generate_content(\n",
    "        prompt,\n",
    "        generation_config=generation_config,\n",
    "    )\n",
    "    response_text = response.text.strip()\n",
    "\n",
    "    # Return the model's output as a string\n",
    "    return response_text\n",
    "\n"
   ]
  },
  {
   "cell_type": "markdown",
   "metadata": {},
   "source": [
    "### Loop over files nad get review"
   ]
  },
  {
   "cell_type": "code",
   "execution_count": 33,
   "metadata": {},
   "outputs": [],
   "source": [
    "from shared.review import parse_review_comments\n",
    "pr_review_comments = []\n",
    "for _review_file in review_files:\n",
    "    pr_review_comments += parse_review_comments(\n",
    "        review_single_file_changes_gemini(\n",
    "            original_file_content=_review_file.snapshot,\n",
    "            diff=_review_file.diff,\n",
    "            file_path=_review_file.path\n",
    "            )\n",
    "        )"
   ]
  },
  {
   "cell_type": "code",
   "execution_count": null,
   "metadata": {},
   "outputs": [],
   "source": [
    "for _comment in pr_review_comments:\n",
    "    print(_comment.model_dump_json(indent=2))"
   ]
  },
  {
   "cell_type": "markdown",
   "metadata": {},
   "source": [
    "## Request LLM For Review Summary\n",
    "\n"
   ]
  },
  {
   "cell_type": "code",
   "execution_count": 35,
   "metadata": {},
   "outputs": [],
   "source": [
    "from vertexai.generative_models import GenerativeModel, GenerationConfig\n",
    "\n",
    "from shared.review import ReviewComment\n",
    "\n",
    "\n",
    "def summarize_pull_request(pr_title: str, pr_description: str, pr_diff: str, review_comments: list[ReviewComment] = None) -> str:\n",
    "    \"\"\"\n",
    "    Calls the Gemini model on Vertex AI to generate a concise summary of a pull request\n",
    "    based on its title, description, code diff, and review comments.\n",
    "    Returns the generated summary as a string, including PR summary and review summary.\n",
    "    \"\"\"\n",
    "\n",
    "    # prepare configuration for the model\n",
    "    generation_config = {\n",
    "        \"max_output_tokens\": 8192,  # limit the length of the response\n",
    "        \"temperature\": 0.5,  # lower temperature for more deterministic output\n",
    "        \"top_p\": 1,  # more deterministic output\n",
    "        # \"top_k\": 30, # more deterministic output\n",
    "    }\n",
    "    # Load the Gemini model\n",
    "    model = GenerativeModel(ai_model)\n",
    "\n",
    "    # Build the prompt in English (basic instructions, no explicit \"role\")\n",
    "    prompt_text = f\"\"\"\n",
    "        Below is a pull request:\n",
    "\n",
    "        Title:\n",
    "        {pr_title}\n",
    "\n",
    "        Description:\n",
    "        {pr_description}\n",
    "\n",
    "        Code Diff:\n",
    "        {pr_diff}\n",
    "        \"\"\"\n",
    "\n",
    "    if review_comments:\n",
    "        prompt_text += \"\"\"\n",
    "\n",
    "        Review Comments:\n",
    "        Here are some review comments and the proposed changes to the PR:\n",
    "        \"\"\"\n",
    "        for i, comment in enumerate(review_comments):\n",
    "            prompt_text += f\"\"\"\n",
    "            Comment {i+1}:\n",
    "            File: {comment.path}\n",
    "            Lines: {comment.start_line}-{comment.line}\n",
    "            Comment: {comment.body}\n",
    "            \"\"\"\n",
    "        prompt_text += \"\"\"\n",
    "\n",
    "        \"\"\"\n",
    "\n",
    "    prompt_text += \"\"\"\n",
    "\n",
    "        Task:\n",
    "        1. Read the pull request details, code diff, and review comments.\n",
    "        2. Provide a concise summary of what this PR changes and why it matters with Highlights.\n",
    "        3. Provide Changeog using expandalbe \"Changelog\" section for more details.\n",
    "        3. Summarize the main points from the review comments,\n",
    "        4. Provide Merge Assesment and Overall Quality Assessment.\n",
    "        5. Keep it short, focusing on the main modifications, purpose and review comments.\n",
    "        6. Use GitHub emoji to make it more appealing.\n",
    "\n",
    "        Provide only the output no other comments or intorductions\n",
    "\n",
    "        # Pull Request Summary:\n",
    "\n",
    "        ...\n",
    "\n",
    "        # Review Summary:\n",
    "\n",
    "        ...\n",
    "\n",
    "        # Overall Quality Assessment\n",
    "\n",
    "        ...\n",
    "\n",
    "        # Merge Assessment\n",
    "\n",
    "        ...\n",
    "        \"\"\"\n",
    "\n",
    "    # Call the model with the prompt\n",
    "    response = model.generate_content(\n",
    "        prompt_text,\n",
    "        generation_config=generation_config,\n",
    "    )\n",
    "    response_text = response.text.strip()\n",
    "\n",
    "    return response_text"
   ]
  },
  {
   "cell_type": "code",
   "execution_count": 36,
   "metadata": {},
   "outputs": [],
   "source": [
    "pr_summary = summarize_pull_request(pr_details.title, pr_details.description, pr_diff, pr_review_comments)"
   ]
  },
  {
   "cell_type": "code",
   "execution_count": null,
   "metadata": {},
   "outputs": [],
   "source": [
    "print(pr_summary)"
   ]
  },
  {
   "cell_type": "markdown",
   "metadata": {},
   "source": [
    "## Publish Review to GitHub"
   ]
  },
  {
   "cell_type": "code",
   "execution_count": null,
   "metadata": {},
   "outputs": [],
   "source": [
    "from shared.git import post_pr_review\n",
    "post_pr_review(git_client, git_repo_name, git_pr_number, pr_summary, pr_review_comments)"
   ]
  }
 ],
 "metadata": {
  "kernelspec": {
   "display_name": ".venv",
   "language": "python",
   "name": "python3"
  },
  "language_info": {
   "codemirror_mode": {
    "name": "ipython",
    "version": 3
   },
   "file_extension": ".py",
   "mimetype": "text/x-python",
   "name": "python",
   "nbconvert_exporter": "python",
   "pygments_lexer": "ipython3",
   "version": "3.12.6"
  }
 },
 "nbformat": 4,
 "nbformat_minor": 2
}
